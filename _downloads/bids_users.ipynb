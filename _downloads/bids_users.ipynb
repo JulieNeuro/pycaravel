{
  "nbformat_minor": 0, 
  "nbformat": 4, 
  "cells": [
    {
      "execution_count": null, 
      "cell_type": "code", 
      "source": [
        "%matplotlib inline"
      ], 
      "outputs": [], 
      "metadata": {
        "collapsed": false
      }
    }, 
    {
      "source": [
        "\nBIDS directory parsing\n======================\n\nCredit: A Grigis\n\npycaravel is a Python package that enables you to parse various source of data.\nIn this tutorial you will learn how to parse and search in a BIDS directory.\n\nFirst checks\n------------\n\nIn order to test if pycaravel package is installed on your machine, you can\ncheck the package version.\n\n"
      ], 
      "cell_type": "markdown", 
      "metadata": {}
    }, 
    {
      "execution_count": null, 
      "cell_type": "code", 
      "source": [
        "import caravel\n\nprint(caravel.__version__)"
      ], 
      "outputs": [], 
      "metadata": {
        "collapsed": false
      }
    }, 
    {
      "source": [
        "Now you can run the the configuration info function to see if all the\ndependencies are installed properly:\n\n"
      ], 
      "cell_type": "markdown", 
      "metadata": {}
    }, 
    {
      "execution_count": null, 
      "cell_type": "code", 
      "source": [
        "print(caravel.info())"
      ], 
      "outputs": [], 
      "metadata": {
        "collapsed": false
      }
    }, 
    {
      "source": [
        "Create a parser for your project\n--------------------------------\n\nThe package provides a common interface to parse a BIDS directory. The\nparsing rules are defined by projects in the module, so we will beed to\nspecify the project name you are working on. For the moement it is not\npossible to specify these rules via the API.\n\n"
      ], 
      "cell_type": "markdown", 
      "metadata": {}
    }, 
    {
      "execution_count": null, 
      "cell_type": "code", 
      "source": [
        "parser = caravel.Caravel(\n    project=\"hbn\",\n    layoutdir=\"/neurospin/tmp/pycaravel/layout\")"
      ], 
      "outputs": [], 
      "metadata": {
        "collapsed": false
      }
    }, 
    {
      "source": [
        "You can now list the available configurations for your project, and the\navailable layout representations pre-generated. Note that these\nrepresentations are sorted by dates, and that the latest one will be used.\n\n"
      ], 
      "cell_type": "markdown", 
      "metadata": {}
    }, 
    {
      "execution_count": null, 
      "cell_type": "code", 
      "source": [
        "from pprint import pprint\n\npprint(parser.conf)\npprint(parser.representation)"
      ], 
      "outputs": [], 
      "metadata": {
        "collapsed": false
      }
    }, 
    {
      "source": [
        "You can export the whole 'sourcedata' layout in a pandas DataFrame.\n\n"
      ], 
      "cell_type": "markdown", 
      "metadata": {}
    }, 
    {
      "execution_count": null, 
      "cell_type": "code", 
      "source": [
        "print(parser.export_layout(\"sourcedata\"))"
      ], 
      "outputs": [], 
      "metadata": {
        "collapsed": false
      }
    }, 
    {
      "source": [
        "It is also possible to filter this dataset. You need first to list all the\navaliable filtering keys, then list all the availables values for the\nfiltering key(s) of interest, and finally filter your dataset.\n\n"
      ], 
      "cell_type": "markdown", 
      "metadata": {}
    }, 
    {
      "execution_count": null, 
      "cell_type": "code", 
      "source": [
        "print(parser.list_keys(\"sourcedata\"))\nprint(parser.list_values(\"sourcedata\", \"subject\"))\nprint(parser.list_values(\"sourcedata\", \"modality\"))\nsearch1 = parser.filter_layout(\"sourcedata\", subject=\"S01\",\n                               modality=\"anat|func\")\nprint(search1)\nsearch2 = parser.filter_layout(\"sourcedata\", extensions=\"tsv\")\nprint(search2)"
      ], 
      "outputs": [], 
      "metadata": {
        "collapsed": false
      }
    }, 
    {
      "source": [
        "Finally you may want to ask the system to load the filtered data. Only a\ncouple of file extensions are supported. If no loader has been found the\nfilename is returned\n\n"
      ], 
      "cell_type": "markdown", 
      "metadata": {}
    }, 
    {
      "execution_count": null, 
      "cell_type": "code", 
      "source": [
        "data1 = parser.load_data(\"sourcedata\", search1)\npprint(data1)\ndata2 = parser.load_data(\"sourcedata\", search2)\npprint(data2)"
      ], 
      "outputs": [], 
      "metadata": {
        "collapsed": false
      }
    }
  ], 
  "metadata": {
    "kernelspec": {
      "display_name": "Python 2", 
      "name": "python2", 
      "language": "python"
    }, 
    "language_info": {
      "mimetype": "text/x-python", 
      "nbconvert_exporter": "python", 
      "name": "python", 
      "file_extension": ".py", 
      "version": "2.7.12", 
      "pygments_lexer": "ipython2", 
      "codemirror_mode": {
        "version": 2, 
        "name": "ipython"
      }
    }
  }
}