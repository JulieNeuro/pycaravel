{
  "nbformat_minor": 0, 
  "nbformat": 4, 
  "cells": [
    {
      "execution_count": null, 
      "cell_type": "code", 
      "source": [
        "%matplotlib inline"
      ], 
      "outputs": [], 
      "metadata": {
        "collapsed": false
      }
    }, 
    {
      "source": [
        "\nBIDS directory parsing\n======================\n\nCredit: A Grigis\n\npycaravel is a Python package that enables you to parse various source of data.\nIn this tutorial you will learn how to parse and search a BIDS directory, and\nthen create a representation of this parser. Using the described representation\nwill speed up the search for users.\n\nFirst checks\n------------\n\nIn order to test if pycaravel package is installed on your machine, you can\ncheck the package version.\n\n"
      ], 
      "cell_type": "markdown", 
      "metadata": {}
    }, 
    {
      "execution_count": null, 
      "cell_type": "code", 
      "source": [
        "import caravel\n\nprint(caravel.__version__)"
      ], 
      "outputs": [], 
      "metadata": {
        "collapsed": false
      }
    }, 
    {
      "source": [
        "Now you can run the the configuration info function to see if all the\ndependencies are installed properly:\n\n"
      ], 
      "cell_type": "markdown", 
      "metadata": {}
    }, 
    {
      "execution_count": null, 
      "cell_type": "code", 
      "source": [
        "print(caravel.info())"
      ], 
      "outputs": [], 
      "metadata": {
        "collapsed": false
      }
    }, 
    {
      "source": [
        "Create a parser for your project\n--------------------------------\n\nThe package provides a common interface to parse a BIDS directory. The\nparsing rules are defined by projects in the module, so we will beed to\nspecify the project name you are working on. For the moment it is not\npossible to specify these rules via the API. Set the layoutdir to None\nin order to switch to the managers mode.\n\n"
      ], 
      "cell_type": "markdown", 
      "metadata": {}
    }, 
    {
      "execution_count": null, 
      "cell_type": "code", 
      "source": [
        "parser = caravel.Caravel(project=\"hbn\", layoutdir=None)"
      ], 
      "outputs": [], 
      "metadata": {
        "collapsed": false
      }
    }, 
    {
      "source": [
        "Create representation of your BIDS directory\n--------------------------------------------\n\nYou will now parse your BIDS directory. As this step may be time consuming,\nthe managers are in charge of creating a representation of the final\nparser that will be used during the user search steps. This can be done by\nusing the following function, specifying the BIDS root directory and\nthe subfolder name to be parsed (sourcedata, derivatives, phenotype, ...).\nThis name must have a conresponding configuration file.\n\n"
      ], 
      "cell_type": "markdown", 
      "metadata": {}
    }, 
    {
      "execution_count": null, 
      "cell_type": "code", 
      "source": [
        "parser.pickling_layout(\n    bids_root=\"/neurospin/tmp/pycaravel/hbn\",\n    name=\"sourcedata\",\n    outdir=\"/neurospin/tmp/pycaravel/layout\")\nprint(parser.list_keys(\"sourcedata\"))"
      ], 
      "outputs": [], 
      "metadata": {
        "collapsed": false
      }
    }
  ], 
  "metadata": {
    "kernelspec": {
      "display_name": "Python 2", 
      "name": "python2", 
      "language": "python"
    }, 
    "language_info": {
      "mimetype": "text/x-python", 
      "nbconvert_exporter": "python", 
      "name": "python", 
      "file_extension": ".py", 
      "version": "2.7.12", 
      "pygments_lexer": "ipython2", 
      "codemirror_mode": {
        "version": 2, 
        "name": "ipython"
      }
    }
  }
}