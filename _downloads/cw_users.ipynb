{
  "nbformat_minor": 0, 
  "nbformat": 4, 
  "cells": [
    {
      "execution_count": null, 
      "cell_type": "code", 
      "source": [
        "%matplotlib inline"
      ], 
      "outputs": [], 
      "metadata": {
        "collapsed": false
      }
    }, 
    {
      "source": [
        "\nCubicWeb instance request (user mode)\n=====================================\n\nCredit: A Grigis\n\npycaravel is a Python package that enables you to parse various source of data.\nIn this tutorial you will learn how to parse and search in a CubicWeb instance.\n\nFirst checks\n------------\n\nIn order to test if pycaravel package is installed on your machine, you can\ncheck the package version.\n\n"
      ], 
      "cell_type": "markdown", 
      "metadata": {}
    }, 
    {
      "execution_count": null, 
      "cell_type": "code", 
      "source": [
        "import caravel\n\nprint(caravel.__version__)"
      ], 
      "outputs": [], 
      "metadata": {
        "collapsed": false
      }
    }, 
    {
      "source": [
        "Now you can run the the configuration info function to see if all the\ndependencies are installed properly:\n\n"
      ], 
      "cell_type": "markdown", 
      "metadata": {}
    }, 
    {
      "execution_count": null, 
      "cell_type": "code", 
      "source": [
        "print(caravel.info())"
      ], 
      "outputs": [], 
      "metadata": {
        "collapsed": false
      }
    }, 
    {
      "source": [
        "Create a parser for your project\n--------------------------------\n\nThe package provides a common interface to parse a CubicWeb instance. The\nparsing rules are defined by projects in the module, so we will beed to\nspecify the project name you are working on. For the moement it is not\npossible to specify these rules via the API.\n\n"
      ], 
      "cell_type": "markdown", 
      "metadata": {}
    }, 
    {
      "execution_count": null, 
      "cell_type": "code", 
      "source": [
        "parser = caravel.get_parser(\n    project=\"herby\",\n    layoutdir=\"/neurospin/tmp/pycaravel/layout\")"
      ], 
      "outputs": [], 
      "metadata": {
        "collapsed": false
      }
    }, 
    {
      "source": [
        "You can now list the available configurations for your project, and the\navailable layout representations pre-generated. Note that these\nrepresentations are sorted by dates, and that the latest one will be used.\n\n"
      ], 
      "cell_type": "markdown", 
      "metadata": {}
    }, 
    {
      "execution_count": null, 
      "cell_type": "code", 
      "source": [
        "from pprint import pprint\n\npprint(parser.conf)\npprint(parser.representation)"
      ], 
      "outputs": [], 
      "metadata": {
        "collapsed": false
      }
    }, 
    {
      "source": [
        "You can export the whole 'sourcedata' layout in a pandas DataFrame.\n\n"
      ], 
      "cell_type": "markdown", 
      "metadata": {}
    }, 
    {
      "execution_count": null, 
      "cell_type": "code", 
      "source": [
        "print(parser.export_layout(\"sourcedata\"))"
      ], 
      "outputs": [], 
      "metadata": {
        "collapsed": false
      }
    }, 
    {
      "source": [
        "It is also possible to filter this dataset. You need first to list all the\navaliable filtering keys, then list all the availables values for the\nfiltering key(s) of interest, and finally filter your dataset.\n\n"
      ], 
      "cell_type": "markdown", 
      "metadata": {}
    }, 
    {
      "execution_count": null, 
      "cell_type": "code", 
      "source": [
        "print(parser.list_keys(\"sourcedata\"))\nprint(parser.list_values(\"sourcedata\", \"modality\"))\nprint(parser.list_values(\"sourcedata\", \"center\"))\nsearch1 = parser.filter_layout(\n    \"sourcedata\", modality=\"T1w|T2w\", extension=\"NIFTI\", session=\"V04\",\n    center=\"igr.fr\")\nprint(search1)"
      ], 
      "outputs": [], 
      "metadata": {
        "collapsed": false
      }
    }, 
    {
      "source": [
        "Finally you may want to ask the system to load the filtered data. Only a\ncouple of file extensions are supported. If no loader has been found the\nfilename is returned. Using the shoping card mechanism you have downloaded\nyour data in a custom folder. You need to specify this server-local machine\nmapping by setting the 'replace' parameter.\n\n"
      ], 
      "cell_type": "markdown", 
      "metadata": {}
    }, 
    {
      "execution_count": null, 
      "cell_type": "code", 
      "source": [
        "data1 = parser.load_data(\n    \"sourcedata\", search1,\n    replace=(\"/neurospin/radiomics_pub\", \"/neurospin/radiomics_pub\"))\npprint(data1)"
      ], 
      "outputs": [], 
      "metadata": {
        "collapsed": false
      }
    }, 
    {
      "source": [
        "And for the phenotype\n---------------------\n\nWe can do the same for the phenotype\n\n"
      ], 
      "cell_type": "markdown", 
      "metadata": {}
    }, 
    {
      "execution_count": null, 
      "cell_type": "code", 
      "source": [
        "print(parser.list_keys(\"phenotype\"))\nprint(parser.list_values(\"phenotype\", \"questionnaire\"))\nprint(parser.list_values(\"phenotype\", \"subject\"))\nsearch2 = parser.filter_layout(\"phenotype\", questionnaire=\"mcld\",\n                               subject=\"175643|278350\")\nprint(search2)\ndata2 = parser.load_data(\"phenotype\", search2)\npprint(data2)"
      ], 
      "outputs": [], 
      "metadata": {
        "collapsed": false
      }
    }
  ], 
  "metadata": {
    "kernelspec": {
      "display_name": "Python 2", 
      "name": "python2", 
      "language": "python"
    }, 
    "language_info": {
      "mimetype": "text/x-python", 
      "nbconvert_exporter": "python", 
      "name": "python", 
      "file_extension": ".py", 
      "version": "2.7.12", 
      "pygments_lexer": "ipython2", 
      "codemirror_mode": {
        "version": 2, 
        "name": "ipython"
      }
    }
  }
}